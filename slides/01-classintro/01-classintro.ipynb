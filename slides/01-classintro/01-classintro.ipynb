{
 "cells": [
  {
   "cell_type": "markdown",
   "metadata": {
    "slideshow": {
     "slide_type": "slide"
    }
   },
   "source": [
    "# FDAP Welcome\n",
    "\n",
    "*Babson Finance 6200*\n",
    "\n",
    "Prof. Luke Stein"
   ]
  },
  {
   "cell_type": "markdown",
   "metadata": {
    "slideshow": {
     "slide_type": "subslide"
    }
   },
   "source": [
    "## Acknowledgements\n",
    "- [Michael Goldstein](https://faculty.babson.edu/goldstein/)\n",
    "- [Cameron Pfiffer](https://cameron.pfiffer.org)"
   ]
  },
  {
   "cell_type": "markdown",
   "metadata": {
    "slideshow": {
     "slide_type": "slide"
    }
   },
   "source": [
    "# Roadmap\n",
    "1. Welcome\n",
    "2. Introductions\n",
    "3. Course Logistics"
   ]
  },
  {
   "cell_type": "markdown",
   "metadata": {
    "slideshow": {
     "slide_type": "subslide"
    }
   },
   "source": [
    "# What is FDAP?\n",
    "## *Officially*, it’s\n",
    "\n",
    "F\n",
    ": Financial\n",
    "\n",
    "D\n",
    ": Data\n",
    "\n",
    "A\n",
    ": Analysis and\n",
    "\n",
    "P\n",
    ": Practice"
   ]
  },
  {
   "cell_type": "markdown",
   "metadata": {
    "slideshow": {
     "slide_type": "subslide"
    }
   },
   "source": [
    "## In *theory*, we’ll\n",
    "\n",
    "F\n",
    ": Figure out how to\n",
    "\n",
    "D\n",
    ": Determine and\n",
    "\n",
    "A\n",
    ": Answer\n",
    "\n",
    "P\n",
    ": Problems"
   ]
  },
  {
   "cell_type": "markdown",
   "metadata": {
    "slideshow": {
     "slide_type": "subslide"
    }
   },
   "source": [
    "## In *practice*, we’ll\n",
    "F\n",
    ": Find data\n",
    "\n",
    "D\n",
    ": Download data\n",
    "\n",
    "A\n",
    ": Analyze data\n",
    "\n",
    "P\n",
    ": Present data"
   ]
  },
  {
   "cell_type": "markdown",
   "metadata": {
    "slideshow": {
     "slide_type": "slide"
    }
   },
   "source": [
    "# About me\n",
    "- **Born and raised** in New York City, **live in** Newton\n",
    "- **Also lived in** Cambridge, MA; Tokyo, Japan; Silicon Valley, CA; Phoenix, AZ\n",
    "- **At Babson since 2020**\n",
    "    - Teaching (~40%): Babson MBA and MSEL; pre-Babson PhD, MBA, MS, BS, high school; award winner at Stanford and ASU\n",
    "    - Research (~40%): Corporate finance and labor, discrimination, volatility and uncertainty, entrepreneurial finance\n",
    "    - Advising and extracurricular (~20%)\n",
    "- **Professional experience** incl. consulting (strategy and private equity due diligence), startup advising and politics/policy work, mentorship and coaching\n",
    "- **Outside interests** including music, family, food and cooking, travel, emergency medicine"
   ]
  },
  {
   "cell_type": "markdown",
   "metadata": {
    "slideshow": {
     "slide_type": "slide"
    }
   },
   "source": [
    "# Where will you find me?\n",
    "- **Live**\n",
    "    - Class (Cutler Center and [Webex](http://webex.babson.edu/meet/lcdstein))\n",
    "    - Office (Tomasso 224)\n",
    "- **Discord**\n",
    "    - Chat\n",
    "    - Announcements\n",
    "- **[Canvas](https://babson.instructure.com/courses/3272573)**\n",
    "    - Internal material (e.g., slides, videos)\n",
    "    - Assignment submissions and peer reviews\n",
    "    - Grades\n",
    "- **[Github](https://lukestein-classes.github.io/fdap/)**: Public material (e.g., sample data and code)"
   ]
  },
  {
   "cell_type": "markdown",
   "metadata": {
    "slideshow": {
     "slide_type": "slide"
    }
   },
   "source": [
    "# In-class exercises\n",
    "Please partner up with someone sitting near you"
   ]
  },
  {
   "cell_type": "markdown",
   "metadata": {
    "slideshow": {
     "slide_type": "fragment"
    }
   },
   "source": [
    "You are going to build one Excel spreadsheet; whoever feels *less* expert or experienced at Excel should have their hands on the keyboard *(Note: this means you’re going to have to introduce yourselves to each other—always a good idea when you're collaborating!)*\n",
    "\n",
    "The first exercise has three components:"
   ]
  },
  {
   "cell_type": "markdown",
   "metadata": {
    "slideshow": {
     "slide_type": "subslide"
    }
   },
   "source": [
    "# Exercise 1\n",
    "\n",
    "1. In Excel, add up the integers from one to ten; that is $$1 + 2 + \\cdots + 9 + 10$$\n",
    "2. Be prepared to *explain* the precise steps you took in order to build your spreadsheet\n",
    "3. Be prepared to briefly introduce your partner to the class; relevant facts might include something like your partner’s hometown, professional or educational background, and another point or two that might interest the class"
   ]
  },
  {
   "cell_type": "markdown",
   "metadata": {
    "slideshow": {
     "slide_type": "slide"
    }
   },
   "source": [
    "### Solution"
   ]
  },
  {
   "cell_type": "code",
   "execution_count": null,
   "metadata": {},
   "outputs": [],
   "source": [
    "# "
   ]
  },
  {
   "cell_type": "markdown",
   "metadata": {
    "slideshow": {
     "slide_type": "subslide"
    }
   },
   "source": [
    "### Did anyone do this differently?"
   ]
  },
  {
   "cell_type": "code",
   "execution_count": null,
   "metadata": {},
   "outputs": [],
   "source": [
    "# "
   ]
  },
  {
   "cell_type": "markdown",
   "metadata": {
    "slideshow": {
     "slide_type": "subslide"
    }
   },
   "source": [
    "### Does anyone have a *totally different* solution?"
   ]
  },
  {
   "cell_type": "code",
   "execution_count": null,
   "metadata": {},
   "outputs": [],
   "source": [
    "# "
   ]
  },
  {
   "cell_type": "markdown",
   "metadata": {
    "slideshow": {
     "slide_type": "slide"
    }
   },
   "source": [
    "## What tradeoffs do we face in terms of different implementations?"
   ]
  },
  {
   "cell_type": "code",
   "execution_count": null,
   "metadata": {},
   "outputs": [],
   "source": [
    "# "
   ]
  },
  {
   "cell_type": "markdown",
   "metadata": {
    "slideshow": {
     "slide_type": "subslide"
    }
   },
   "source": [
    "## A programming-based approach is likely better here\n",
    "- Define a list of tasks for a computer to complete; i.e.,\n",
    "- Tell the dumbest object on Earth (a computer) how to do what you want it to\n",
    "  - Design algorithms to do things efficiently\n",
    "  - Automate boring processes\n",
    "  - Solve problems"
   ]
  },
  {
   "cell_type": "code",
   "execution_count": null,
   "metadata": {
    "slideshow": {
     "slide_type": "skip"
    }
   },
   "outputs": [],
   "source": [
    "%%html\n",
    "<blockquote class=\"twitter-tweet\" data-theme=\"dark\"><p lang=\"en\" dir=\"ltr\">Any trader who isn’t actively learning at least the basics of coding and data science is obsoleting themselves, as the era of employing risk-seeking enfant terrible who are spoon-fed actionable analysis is pretty much over.</p>&mdash; Joel Rubano (@TCK_JRubano) <a href=\"https://twitter.com/TCK_JRubano/status/1433102723692498948?ref_src=twsrc%5Etfw\">September 1, 2021</a></blockquote> <script async src=\"https://platform.twitter.com/widgets.js\" charset=\"utf-8\"></script>"
   ]
  },
  {
   "cell_type": "markdown",
   "metadata": {
    "slideshow": {
     "slide_type": "subslide"
    }
   },
   "source": [
    "### Our key tool will be Python\n",
    "\n",
    "You will want to install on your own computer, but for now use a cloud-based solution: [Google Colab](https://colab.research.google.com/)\n",
    "> [colab.research.google.com](https://colab.research.google.com/)\n",
    "\n",
    "<blockquote class=\"twitter-tweet\" data-theme=\"dark\"><p lang=\"en\" dir=\"ltr\">Any trader who isn’t actively learning at least the basics of coding and data science is obsoleting themselves, as the era of employing risk-seeking enfant terrible who are spoon-fed actionable analysis is pretty much over.</p>&mdash; Joel Rubano (@TCK_JRubano) <a href=\"https://twitter.com/TCK_JRubano/status/1433102723692498948?ref_src=twsrc%5Etfw\">September 1, 2021</a></blockquote> <script async src=\"https://platform.twitter.com/widgets.js\" charset=\"utf-8\"></script>"
   ]
  },
  {
   "cell_type": "markdown",
   "metadata": {
    "slideshow": {
     "slide_type": "subslide"
    }
   },
   "source": [
    "# Let’s try to implement some of the proposed algorithms in Python\n",
    "\n",
    "We are now in what's called a Python “Notebook”\n",
    "\n",
    "Code goes input into “cells” and their output appears below the cell once you run it; check the `Runtime` menu to see how to run a cell (probably `Apple-Enter`, `Command-Enter`, or `Control-Enter`)"
   ]
  },
  {
   "cell_type": "markdown",
   "metadata": {
    "slideshow": {
     "slide_type": "fragment"
    }
   },
   "source": [
    "(In addition to code cells, you can also insert text cells; in fact, this whole presentation is a Python Notebook!)"
   ]
  },
  {
   "cell_type": "code",
   "execution_count": null,
   "metadata": {},
   "outputs": [],
   "source": []
  },
  {
   "cell_type": "markdown",
   "metadata": {
    "slideshow": {
     "slide_type": "slide"
    }
   },
   "source": [
    "## Exercise 1b\n",
    "\n",
    "Update your spreadsheet to instead add the numbers from 1 to **500** (i.e., $ \\sum_{i=1}^{500} i = 1 + 2 + \\cdots + 500 $)"
   ]
  },
  {
   "cell_type": "markdown",
   "metadata": {
    "slideshow": {
     "slide_type": "fragment"
    }
   },
   "source": [
    "## Exercise 1c\n",
    "\n",
    "What if we wanted to add the numbers from 1 to **one million**?"
   ]
  },
  {
   "cell_type": "markdown",
   "metadata": {
    "slideshow": {
     "slide_type": "fragment"
    }
   },
   "source": [
    "## Exercise 1d\n",
    "\n",
    "What if we wanted to add **only multiples of 3** up to 500 (i.e., $3 + 6 + 9 + \\cdots 498$)?"
   ]
  },
  {
   "cell_type": "markdown",
   "metadata": {
    "slideshow": {
     "slide_type": "subslide"
    }
   },
   "source": [
    "### Exercise 1a solution"
   ]
  },
  {
   "cell_type": "code",
   "execution_count": null,
   "metadata": {
    "slideshow": {
     "slide_type": "-"
    }
   },
   "outputs": [],
   "source": [
    "sum(range(1,11))"
   ]
  },
  {
   "cell_type": "markdown",
   "metadata": {
    "slideshow": {
     "slide_type": "fragment"
    }
   },
   "source": [
    "### Exercise 1b solution"
   ]
  },
  {
   "cell_type": "code",
   "execution_count": null,
   "metadata": {
    "slideshow": {
     "slide_type": "-"
    }
   },
   "outputs": [],
   "source": [
    "sum(range(1,501))"
   ]
  },
  {
   "cell_type": "markdown",
   "metadata": {
    "slideshow": {
     "slide_type": "fragment"
    }
   },
   "source": [
    "### Exercise 1c solution"
   ]
  },
  {
   "cell_type": "code",
   "execution_count": null,
   "metadata": {
    "slideshow": {
     "slide_type": "-"
    }
   },
   "outputs": [],
   "source": [
    "sum(range(1,1000001))"
   ]
  },
  {
   "cell_type": "markdown",
   "metadata": {
    "slideshow": {
     "slide_type": "fragment"
    }
   },
   "source": [
    "### Exercise 1d solution"
   ]
  },
  {
   "cell_type": "code",
   "execution_count": null,
   "metadata": {
    "slideshow": {
     "slide_type": "-"
    }
   },
   "outputs": [],
   "source": [
    "[i for i in range(1, 501) if (i%3) == 0]"
   ]
  },
  {
   "cell_type": "code",
   "execution_count": null,
   "metadata": {
    "slideshow": {
     "slide_type": "-"
    }
   },
   "outputs": [],
   "source": [
    "sum([i for i in range(1,501) if (i%3) == 0])"
   ]
  },
  {
   "cell_type": "markdown",
   "metadata": {
    "slideshow": {
     "slide_type": "slide"
    }
   },
   "source": [
    "# Exercise 2\n",
    "\n",
    "**What is the probability that the S&P 500 will go up (i.e., have a positive return) over the course of a (calendar) month?**"
   ]
  },
  {
   "cell_type": "markdown",
   "metadata": {
    "slideshow": {
     "slide_type": "fragment"
    }
   },
   "source": [
    "### This is a statistical question\n",
    "\n",
    "- It’s badly written (on purpose): What is the probability that the S&P 500 will go up in *what* month?\n",
    "- Population vs. Sample\n",
    "- Description vs. Prediction\n",
    "- Despite the ambiguity how might we answer the question?"
   ]
  },
  {
   "cell_type": "markdown",
   "metadata": {
    "slideshow": {
     "slide_type": "subslide"
    }
   },
   "source": [
    "Let’s work with a little data. You can find data on historical monthly S&P 500 returns at\n",
    "\n",
    "> [https://lukestein-classes.github.io/fdap/](https://lukestein-classes.github.io/fdap/)\n",
    "\n",
    "- `Data files`\n",
    "- `Monthly S&P 500 data (sp500m.csv)` > `Download`\n",
    "- and choosing `Save As…` from the browser\n",
    "\n",
    "Monthly S&P 500 returns are in the `sprtrn` column."
   ]
  },
  {
   "cell_type": "markdown",
   "metadata": {
    "slideshow": {
     "slide_type": "subslide"
    }
   },
   "source": [
    "## How might we do this in Python?\n",
    "\n",
    "Again, we will run online for now\n",
    "\n",
    "Instead of Colab, let’s use [Binder](https://mybinder.org/); you can find a template notebook at\n",
    "> [lukestein-classes.github.io/fdap/](https://lukestein-classes.github.io/fdap/)\n",
    "\n",
    "by clicking on `Template notebooks` and the `Launch Binder` button\n",
    "\n",
    "Once Binder is running (this may take longer than Colab, but lets us more easily access data), select\n",
    "- `Templates`\n",
    "- `sp500m.ipynb`"
   ]
  },
  {
   "cell_type": "code",
   "execution_count": null,
   "metadata": {
    "slideshow": {
     "slide_type": "subslide"
    }
   },
   "outputs": [],
   "source": [
    "import pandas as pd\n",
    "import seaborn as sns\n",
    "sp500m = pd.read_csv(r'../data/sp500m.csv', index_col=\"caldt\", parse_dates=True)\n",
    "sp500m"
   ]
  },
  {
   "cell_type": "code",
   "execution_count": null,
   "metadata": {
    "slideshow": {
     "slide_type": "subslide"
    }
   },
   "outputs": [],
   "source": [
    "sns.lineplot(data = sp500m[\"spindx\"])"
   ]
  },
  {
   "cell_type": "code",
   "execution_count": null,
   "metadata": {
    "slideshow": {
     "slide_type": "subslide"
    }
   },
   "outputs": [],
   "source": [
    "sns.displot(data = sp500m, x = \"sprtrn\")"
   ]
  },
  {
   "cell_type": "code",
   "execution_count": null,
   "metadata": {
    "slideshow": {
     "slide_type": "subslide"
    }
   },
   "outputs": [],
   "source": [
    "sp500m[\"sprtrn\"].head()"
   ]
  },
  {
   "cell_type": "code",
   "execution_count": null,
   "metadata": {
    "slideshow": {
     "slide_type": "fragment"
    }
   },
   "outputs": [],
   "source": [
    "sp500m[\"sprtrn\"].dropna().head()"
   ]
  },
  {
   "cell_type": "code",
   "execution_count": null,
   "metadata": {
    "slideshow": {
     "slide_type": "fragment"
    }
   },
   "outputs": [],
   "source": [
    "sp500m[\"sprtrn\"].dropna() > 0"
   ]
  },
  {
   "cell_type": "code",
   "execution_count": null,
   "metadata": {
    "slideshow": {
     "slide_type": "fragment"
    }
   },
   "outputs": [],
   "source": [
    "(sp500m[\"sprtrn\"].dropna() > 0).mean()"
   ]
  }
 ],
 "metadata": {
  "celltoolbar": "Slideshow",
  "interpreter": {
   "hash": "53a34cd9b2a638f3170195f3090a9b525552ba6400945dc7c859513780e31793"
  },
  "kernelspec": {
   "display_name": "Python [conda env:fdap]",
   "language": "python",
   "name": "conda-env-fdap-py"
  },
  "language_info": {
   "codemirror_mode": {
    "name": "ipython",
    "version": 3
   },
   "file_extension": ".py",
   "mimetype": "text/x-python",
   "name": "python",
   "nbconvert_exporter": "python",
   "pygments_lexer": "ipython3",
   "version": "3.9.7"
  },
  "livereveal": {
   "autolaunch": true
  },
  "rise": {
   "scroll": true,
   "theme": "solarized",
   "transition": "slide"
  }
 },
 "nbformat": 4,
 "nbformat_minor": 2
}
